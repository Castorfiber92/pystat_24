{
 "cells": [
  {
   "cell_type": "markdown",
   "id": "dacf74e6",
   "metadata": {},
   "source": [
    "# NumPy"
   ]
  },
  {
   "cell_type": "markdown",
   "id": "01b2bf34",
   "metadata": {},
   "source": [
    "Read the links: https://numpy.org/doc/stable/user/quickstart.html  and https://numpy.org/doc/stable/user/basics.broadcasting.html  before solving the exercises. "
   ]
  },
  {
   "cell_type": "code",
   "execution_count": 1,
   "id": "1f79e4a6",
   "metadata": {},
   "outputs": [],
   "source": [
    "import numpy as np"
   ]
  },
  {
   "cell_type": "markdown",
   "id": "7dae6889",
   "metadata": {},
   "source": [
    "### Print out the dimension (number of axes), shape, size and the datatype of the matrix A."
   ]
  },
  {
   "cell_type": "code",
   "execution_count": 2,
   "id": "7b3678cd",
   "metadata": {},
   "outputs": [],
   "source": [
    "A = np.arange(1, 16).reshape(3,5)"
   ]
  },
  {
   "cell_type": "code",
   "execution_count": 3,
   "id": "31d39235",
   "metadata": {},
   "outputs": [
    {
     "name": "stdout",
     "output_type": "stream",
     "text": [
      "[[ 1  2  3  4  5]\n",
      " [ 6  7  8  9 10]\n",
      " [11 12 13 14 15]]\n",
      "2\n",
      "(3, 5)\n",
      "int64\n"
     ]
    }
   ],
   "source": [
    "print(A)\n",
    "print(A.ndim)\n",
    "print(A.shape)\n",
    "print(A.dtype)"
   ]
  },
  {
   "cell_type": "markdown",
   "id": "e56d2a96",
   "metadata": {},
   "source": [
    "### Do the following computations on the matrices B and C: \n",
    "* Elementwise subtraction. \n",
    "* Elementwise multiplication. \n",
    "* Matrix multiplication (by default you should use the @ operator)."
   ]
  },
  {
   "cell_type": "code",
   "execution_count": 5,
   "id": "a7053fbb",
   "metadata": {},
   "outputs": [
    {
     "name": "stdout",
     "output_type": "stream",
     "text": [
      "[[1 2 3]\n",
      " [4 5 6]\n",
      " [7 8 9]]\n",
      "\n",
      "[[2. 2. 2.]\n",
      " [2. 2. 2.]\n",
      " [2. 2. 2.]]\n"
     ]
    }
   ],
   "source": [
    "B = np.arange(1, 10).reshape(3, 3)\n",
    "C = np.ones((3, 3))*2\n",
    "\n",
    "print(B)\n",
    "print()\n",
    "print(C)"
   ]
  },
  {
   "cell_type": "code",
   "execution_count": 6,
   "id": "3cd794ae",
   "metadata": {},
   "outputs": [
    {
     "name": "stdout",
     "output_type": "stream",
     "text": [
      "[[-1.  0.  1.]\n",
      " [ 2.  3.  4.]\n",
      " [ 5.  6.  7.]]\n",
      "\n",
      "[[ 2.  4.  6.]\n",
      " [ 8. 10. 12.]\n",
      " [14. 16. 18.]]\n",
      "\n",
      "[[12. 12. 12.]\n",
      " [30. 30. 30.]\n",
      " [48. 48. 48.]]\n"
     ]
    }
   ],
   "source": [
    "print(B - C)\n",
    "print()\n",
    "print(B * C)\n",
    "print()\n",
    "print(B @ C)"
   ]
  },
  {
   "cell_type": "markdown",
   "id": "96030d53",
   "metadata": {},
   "source": [
    "### Do the following calculations on the matrix:\n",
    "* Exponentiate each number elementwise (use the np.exp function).\n",
    "\n",
    "* Calculate the minimum value in the whole matrix. \n",
    "* Calculcate the minimum value in each row. \n",
    "* Calculcate the minimum value in each column. \n",
    "\n",
    "\n",
    "* Find the index value for the minimum value in the whole matrix (hint: use np.argmin).\n",
    "* Find the index value for the minimum value in each row (hint: use np.argmin).\n",
    "\n",
    "\n",
    "* Calculate the sum for all elements.\n",
    "* Calculate the mean for each column. \n",
    "* Calculate the median for each column. "
   ]
  },
  {
   "cell_type": "code",
   "execution_count": 7,
   "id": "f8a9166b",
   "metadata": {},
   "outputs": [
    {
     "name": "stdout",
     "output_type": "stream",
     "text": [
      "[[1 2 3]\n",
      " [4 5 6]\n",
      " [7 8 9]]\n"
     ]
    }
   ],
   "source": [
    "B = np.arange(1, 10).reshape(3, 3)\n",
    "print(B)"
   ]
  },
  {
   "cell_type": "code",
   "execution_count": 16,
   "id": "f03f24f7",
   "metadata": {},
   "outputs": [
    {
     "name": "stdout",
     "output_type": "stream",
     "text": [
      "[[1 2 3]\n",
      " [4 5 6]\n",
      " [7 8 9]] \n",
      "\n",
      "[[2.71828183e+00 7.38905610e+00 2.00855369e+01]\n",
      " [5.45981500e+01 1.48413159e+02 4.03428793e+02]\n",
      " [1.09663316e+03 2.98095799e+03 8.10308393e+03]] \n",
      "\n",
      "1 \n",
      "\n",
      "1\n",
      "4\n",
      "7\n",
      "\n",
      "1\n",
      "2\n",
      "3\n",
      "\n",
      "0 \n",
      "\n",
      "0\n",
      "3\n",
      "6\n",
      "\n",
      "45 \n",
      "\n",
      "[ 6 15 24] \n",
      "\n"
     ]
    }
   ],
   "source": [
    "print(B,'\\n')\n",
    "\n",
    "print(np.exp(B),'\\n') #beräknar e^i där i är värdet på motsvarande index.\n",
    "\n",
    "print(np.min(B),'\\n')\n",
    "\n",
    "for row in B:\n",
    "    print(np.min(row))\n",
    "print()\n",
    "\n",
    "for row in B.T:\n",
    "    print(np.min(row))\n",
    "print()\n",
    "\n",
    "\n",
    "print(np.argmin(B),'\\n')\n",
    "\n",
    "i = 0\n",
    "for row in B:\n",
    "    print(np.argmin(B) + 3*i)\n",
    "    i += 1\n",
    "print()\n",
    "\n",
    "print(np.sum(B),'\\n')\n",
    "print(np.sum(B, axis=1),'\\n')"
   ]
  },
  {
   "cell_type": "markdown",
   "id": "541eb7ba",
   "metadata": {},
   "source": [
    "### What does it mean when you provide fewer indices than axes when slicing? See example below."
   ]
  },
  {
   "cell_type": "code",
   "execution_count": 17,
   "id": "9c8abf56",
   "metadata": {},
   "outputs": [
    {
     "name": "stdout",
     "output_type": "stream",
     "text": [
      "[[ 1  2  3  4  5]\n",
      " [ 6  7  8  9 10]\n",
      " [11 12 13 14 15]]\n"
     ]
    }
   ],
   "source": [
    "print(A)"
   ]
  },
  {
   "cell_type": "code",
   "execution_count": 24,
   "id": "69415f7b",
   "metadata": {},
   "outputs": [
    {
     "name": "stdout",
     "output_type": "stream",
     "text": [
      "[ 6  7  8  9 10]\n",
      "\n",
      "3\n"
     ]
    }
   ],
   "source": [
    "print(A[1])\n",
    "print()\n",
    "print(A[0, 2])\n"
   ]
  },
  {
   "cell_type": "markdown",
   "id": "6c53541b",
   "metadata": {},
   "source": [
    "**Answer:**"
   ]
  },
  {
   "cell_type": "code",
   "execution_count": null,
   "id": "de01e120",
   "metadata": {},
   "outputs": [],
   "source": [
    "Då tolkas det som att den återstående \"axes\" är complete, dvs A[1] ger samma svar som A[1, :] (vilket kan tolkas som \"skriv ut raden med index 1 i A, : säger att alla kolumner ska ingå\")"
   ]
  },
  {
   "cell_type": "markdown",
   "id": "6652d0c9",
   "metadata": {},
   "source": [
    "### Iterating over multidimensional arrays is done with respect to the first axis, so in the example below we iterate trough the rows. If you would like to iterate through the array *elementwise*, how would you do that?"
   ]
  },
  {
   "cell_type": "code",
   "execution_count": 25,
   "id": "9459864f",
   "metadata": {},
   "outputs": [
    {
     "data": {
      "text/plain": [
       "array([[ 1,  2,  3,  4,  5],\n",
       "       [ 6,  7,  8,  9, 10],\n",
       "       [11, 12, 13, 14, 15]])"
      ]
     },
     "execution_count": 25,
     "metadata": {},
     "output_type": "execute_result"
    }
   ],
   "source": [
    "A"
   ]
  },
  {
   "cell_type": "code",
   "execution_count": 28,
   "id": "a671bb5a",
   "metadata": {},
   "outputs": [
    {
     "name": "stdout",
     "output_type": "stream",
     "text": [
      "[1 2 3 4 5]\n",
      "[ 6  7  8  9 10]\n",
      "[11 12 13 14 15]\n"
     ]
    }
   ],
   "source": [
    "for i in A:\n",
    "    print(i)"
   ]
  },
  {
   "cell_type": "code",
   "execution_count": 31,
   "id": "f4e443a0",
   "metadata": {},
   "outputs": [
    {
     "name": "stdout",
     "output_type": "stream",
     "text": [
      "1\n",
      "2\n",
      "3\n",
      "4\n",
      "5\n",
      "6\n",
      "7\n",
      "8\n",
      "9\n",
      "10\n",
      "11\n",
      "12\n",
      "13\n",
      "14\n",
      "15\n",
      "1\n",
      "2\n",
      "3\n",
      "4\n",
      "5\n",
      "6\n",
      "7\n",
      "8\n",
      "9\n",
      "10\n",
      "11\n",
      "12\n",
      "13\n",
      "14\n",
      "15\n"
     ]
    }
   ],
   "source": [
    "#Jag hade använt mig av:\n",
    "for i in np.nditer(A):\n",
    "    print(i)\n",
    "\n",
    "\n",
    "#Ett alternativ hade varit:\n",
    "for i in A.flat:\n",
    "    print(i)"
   ]
  },
  {
   "cell_type": "markdown",
   "id": "608a2583",
   "metadata": {},
   "source": [
    "### Explain what the code below does. More specifically, b has three axes - what does this mean? "
   ]
  },
  {
   "cell_type": "code",
   "execution_count": 34,
   "id": "f8f9b26f",
   "metadata": {},
   "outputs": [
    {
     "name": "stdout",
     "output_type": "stream",
     "text": [
      "[ 0  1  2  3  4  5  6  7  8  9 10 11 12 13 14 15 16 17 18 19 20 21 22 23\n",
      " 24 25 26 27 28 29]\n",
      "\n",
      "[[[ 0  1  2  3  4]\n",
      "  [ 5  6  7  8  9]\n",
      "  [10 11 12 13 14]]\n",
      "\n",
      " [[15 16 17 18 19]\n",
      "  [20 21 22 23 24]\n",
      "  [25 26 27 28 29]]]\n"
     ]
    }
   ],
   "source": [
    "a = np.arange(30)\n",
    "b = a.reshape((2, 3, -1))\n",
    "print(a)\n",
    "print()\n",
    "\n",
    "print(b)"
   ]
  },
  {
   "cell_type": "markdown",
   "id": "863a45df",
   "metadata": {},
   "source": [
    "### Svar\n",
    "Eftersom vi ger reshape 3 värden så ber vi om en 3dimensionell array.\n",
    "Värdena hamnar då som x, y, z. När vi skickar in (2, 3, -1) så tolkas det som att\n",
    "vi vill ha två element i x-led (gör så det ser ut som två olika matriser).\n",
    "\n",
    "Vi vill sen ha tre element i y-led (varje matris har 3 rader).\n",
    "-1 används för att berätta för reshape att \"i detta leden fyller du på så det passar\". \n"
   ]
  },
  {
   "cell_type": "markdown",
   "id": "ab5933d5",
   "metadata": {},
   "source": [
    "### Broadcasting\n",
    "**Read the following link about broadcasting: https://numpy.org/doc/stable/user/basics.broadcasting.html#basics-broadcasting**"
   ]
  },
  {
   "cell_type": "markdown",
   "id": "039805ba",
   "metadata": {},
   "source": [
    "# Remark on Broadcasting when doing Linear Algebra calculations in Python. "
   ]
  },
  {
   "cell_type": "markdown",
   "id": "c4bcc147",
   "metadata": {},
   "source": [
    "### From the mathematical rules of matrix addition, the operation below (m1 + m2) does not make sense. The reason is that matrix addition requires two matrices of the same size. In Python however, it works due to broadcasting rules in NumPy. So you must be careful when doing Linear Algebra calculations in Python since they do not follow the \"mathematical rules\". This can however easily be handled by doing some simple programming, for example validating that two matrices have the same shape is easy if you for instance want to add two matrices. "
   ]
  },
  {
   "cell_type": "code",
   "execution_count": 38,
   "id": "1fd46778",
   "metadata": {},
   "outputs": [
    {
     "name": "stdout",
     "output_type": "stream",
     "text": [
      "[[2 3]\n",
      " [4 5]]\n"
     ]
    }
   ],
   "source": [
    "m1 = np.array([[1, 2], [3, 4]])\n",
    "m2 = np.array([1, 1])\n",
    "print(m1 + m2)"
   ]
  },
  {
   "cell_type": "markdown",
   "id": "047d6576",
   "metadata": {},
   "source": [
    "### The example below would also not be allowed if following the \"mathematical rules\" in Linear Algebra. But it works due to broadcasting in NumPy. "
   ]
  },
  {
   "cell_type": "code",
   "execution_count": 39,
   "id": "5e6ef2e4",
   "metadata": {},
   "outputs": [
    {
     "name": "stdout",
     "output_type": "stream",
     "text": [
      "[2 3 4]\n"
     ]
    }
   ],
   "source": [
    "v1 = np.array([1, 2, 3])\n",
    "print(v1 + 1)"
   ]
  },
  {
   "cell_type": "code",
   "execution_count": 40,
   "id": "e2cbae26",
   "metadata": {},
   "outputs": [
    {
     "name": "stdout",
     "output_type": "stream",
     "text": [
      "[[1 2]\n",
      " [3 4]]\n",
      "[2 2]\n"
     ]
    }
   ],
   "source": [
    "A = np.arange(1, 5).reshape(2,2)\n",
    "print(A)\n",
    "\n",
    "b = np.array([2, 2])\n",
    "print(b)"
   ]
  },
  {
   "cell_type": "markdown",
   "id": "722fd5cd",
   "metadata": {},
   "source": [
    "# Vector- and matrix algebra Exercises"
   ]
  },
  {
   "cell_type": "markdown",
   "id": "b63a3081-d976-4d9f-bfd0-a63917e79f7d",
   "metadata": {},
   "source": [
    "**Now you are going to create a function that can be reused every time you add or multiply matrices. The function is created so that we do the addition and multiplication according to the rules of vector- and matrix algebra.**\n",
    "\n",
    "**Create a function \"add_mult_matrices\" that takes two matrices as input arguments (validate that the input are of the type numpy.ndarray by using the isinstance function), a third argument that is either 'add' or 'multiply' that specifies if you want to add or multiply the matrices (validate that the third argument is either 'add' or 'multiply'). When doing matrix addition, validate that the matrices have the same size. When doing matrix multiplication, validate that the sizes conform (i.e. number of columns in the first matrix is equal to the number of rows in the second matrix).**"
   ]
  },
  {
   "cell_type": "code",
   "execution_count": 145,
   "id": "3506f977-ac0a-473f-85bc-eec9f35dc498",
   "metadata": {},
   "outputs": [
    {
     "name": "stdout",
     "output_type": "stream",
     "text": [
      "[[20 26]\n",
      " [47 62]]\n"
     ]
    }
   ],
   "source": [
    "def add_mult_matrices(A, B, operation):\n",
    "    if (isinstance(a, np.ndarray) and (isinstance(b, np.ndarray))) is False:\n",
    "        return 'Enter two arrays'\n",
    "    \n",
    "  \n",
    "    if (operation == 'add' or operation == 'multiply') != True:\n",
    "        return 'Chose either add or multiply'\n",
    "    \n",
    "    \n",
    "    if operation == 'add':\n",
    "        if A.shape != B.shape:\n",
    "            return 'They have to be the same size for addition'\n",
    "        else:\n",
    "            return (A + B)\n",
    "\n",
    "    elif operation == 'multiply':\n",
    "        if (A.shape[-1] != B.shape[0]):\n",
    "            print('Sizes does not conform')\n",
    "        else:\n",
    "            C =np.array(A @ B)\n",
    "            return(C)\n",
    "\n",
    "\n",
    "    \n",
    "test_A = np.array([[1, 2, 3], [4, 5, 6]])\n",
    "test_B = np.array([[2, 3], [3, 4], [4, 5]])\n",
    "\n",
    "c = add_mult_matrices(test_A, test_B, 'multiply')\n",
    "print(c)"
   ]
  },
  {
   "cell_type": "markdown",
   "id": "8dad82d0-2359-4dff-8f5b-a57d3e34103c",
   "metadata": {},
   "source": [
    "### Solve all the exercises in chapter 10.1 in the book \"Matematik för yrkeshögskolan\". "
   ]
  },
  {
   "cell_type": "code",
   "execution_count": 90,
   "id": "89df88af-3668-4d98-a0a4-e6d92eea0f89",
   "metadata": {},
   "outputs": [
    {
     "name": "stdout",
     "output_type": "stream",
     "text": [
      "10.1.1\n",
      "a:  (1, 2)\n",
      "b:  [[20 15]]\n",
      "c:  [[12  9]]\n",
      "d:  [[32 24]]\n",
      "e:  [[32 24]]\n",
      "f:  [[12  9]]\n",
      "g) \n",
      " [[4]\n",
      " [3]] \n",
      "dim:  (2, 1)\n",
      "i) ||x|| =  4.358898943540674\n"
     ]
    }
   ],
   "source": [
    "# 10.1.1\n",
    "x = np.array([[4,3]])\n",
    "#Använder dubbla brackets här för att i senare uppgift kunna ta fram transponatet. \n",
    "print('10.1.1')\n",
    "#a)\n",
    "print('a: ', x.shape)\n",
    "\n",
    "#b)\n",
    "print('b: ', 5 * x)\n",
    "\n",
    "#c)\n",
    "print('c: ', 3 * x)\n",
    "\n",
    "#d)\n",
    "print('d: ', (5 * x) + (3 * x))\n",
    "\n",
    "#e\n",
    "print('e: ', 8 * x)\n",
    "\n",
    "#f\n",
    "print('f: ', (4 * x) - (x))\n",
    "\n",
    "#g\n",
    "print('g) \\n', x.T, '\\ndim: ', (x.T).shape)\n",
    "\n",
    "#h\n",
    "#Nej, x + x.T är ej definerat då dimensionerna inte stämmer.\n",
    "\n",
    "#i\n",
    "x_1, x_2 = x[0]\n",
    "calc = ((x_1**2) + (x_2**1))**0.5\n",
    "print('i) ||x|| = ', calc)\n"
   ]
  },
  {
   "cell_type": "code",
   "execution_count": 122,
   "id": "24c395cc",
   "metadata": {},
   "outputs": [
    {
     "name": "stdout",
     "output_type": "stream",
     "text": [
      "10.1.2\n",
      "[[ 3]\n",
      " [ 7]\n",
      " [ 0]\n",
      " [11]]\n",
      "a har dim:  (4, 1)\n",
      "b: \n",
      " [[ 6]\n",
      " [14]\n",
      " [ 0]\n",
      " [22]]\n",
      "c: \n",
      " [[ 9]\n",
      " [21]\n",
      " [ 0]\n",
      " [33]]\n",
      "d: \n",
      " [[ 6]\n",
      " [14]\n",
      " [ 0]\n",
      " [22]]\n",
      "e: \n",
      " [[ 3  7  0 11]] dim:  (1, 4)\n",
      "f) ||v|| =  [13.37908816]\n",
      "\n"
     ]
    }
   ],
   "source": [
    "#10.1.2\n",
    "print('10.1.2')\n",
    "\n",
    "v = (np.array([[3, 7, 0, 11]])).T\n",
    "print(v)\n",
    "\n",
    "#a\n",
    "print('a har dim: ', v.shape)\n",
    "\n",
    "#b\n",
    "print('b: \\n', 2*v)\n",
    "\n",
    "#c\n",
    "print('c: \\n', 5*v - 2*v)\n",
    "\n",
    "#d\n",
    "print('d: \\n', 4*v - 2*v)\n",
    "\n",
    "#e\n",
    "print('e: \\n', v.T, 'dim: ', v.T.shape)\n",
    "\n",
    "#f\n",
    "v_1, v_2, v_3, v_4 = v\n",
    "calc_v = (((v_1)**2) + ((v_2)**2) + ((v_3)**2) + ((v_4)**2))**0.5\n",
    "print('f) ||v|| = ', calc_v)\n",
    "print()"
   ]
  },
  {
   "cell_type": "code",
   "execution_count": 126,
   "id": "4c1e34f3",
   "metadata": {},
   "outputs": [
    {
     "name": "stdout",
     "output_type": "stream",
     "text": [
      "a) ||u_1|| =  [7.14142843]\n",
      "b) ||u_1 - u_2 || =  [4.47213595]\n",
      "\n"
     ]
    }
   ],
   "source": [
    "#10.1.3 använder u_1 och u_2 då v använts i tidigare uppgift\n",
    "\n",
    "u_1 = np.array([[4, 3, 1, 5]]).T\n",
    "u_2 = np.array([[2, 3, 1, 1]]).T\n",
    "\n",
    "u_1_1, u_1_2, u_1_3, u_1_4 = u_1\n",
    "u_2_1, u_2_2, u_2_3, u_2_4 = u_2\n",
    "\n",
    "u_3 = np.array(u_1 - u_2)\n",
    "u_3_1, u_3_2, u_3_3, u_3_4 = u_3\n",
    "\n",
    "calc_u_1 = (((u_1_1)**2) + ((u_1_2)**2) + ((u_1_3)**2) + ((u_1_4)**2))**0.5\n",
    "print('a) ||u_1|| = ', calc_u_1)\n",
    "\n",
    "calc_u_3 = (((u_3_1)**2) + ((u_3_2)**2) + ((u_3_3)**2) + ((u_3_4)**2))**0.5\n",
    "print('b) ||u_1 - u_2 || = ', calc_u_3 )\n",
    "\n",
    "print()"
   ]
  },
  {
   "cell_type": "markdown",
   "id": "75c98984-1f88-4df1-b850-d2466de444a5",
   "metadata": {},
   "source": [
    "### Solve all the exercises, except 10.2.4, in chapter 10.2 in the book \"Matematik för yrkeshögskolan\". "
   ]
  },
  {
   "cell_type": "code",
   "execution_count": 147,
   "id": "65371610-16e1-48b2-b7fb-65e49002608a",
   "metadata": {},
   "outputs": [
    {
     "name": "stdout",
     "output_type": "stream",
     "text": [
      "[[ 4  2 -2]\n",
      " [ 2 -2  2]]\n",
      "a) [[ 0 -4  3]\n",
      " [ 0 -2 -4]]\n",
      "\n",
      "b They have to be the same size for addition\n",
      "\n",
      "c [[3 2]\n",
      " [2 3]]\n",
      "\n",
      "d [[ 9 12]\n",
      " [12  9]]\n",
      "\n",
      "e [[-4 -4]\n",
      " [-4 -4]]\n",
      "\n",
      "f They have to be the same size for addition\n",
      "Sizes does not conform\n",
      "\n",
      "g None\n",
      "Sizes does not conform\n",
      "\n",
      "h None\n",
      "\n",
      "i [[11 10]\n",
      " [10 11]]\n",
      "\n",
      "j [[  8 -10  -3]\n",
      " [ 10  -8   0]]\n",
      "\n",
      "k [[1 2]\n",
      " [2 1]]\n",
      "\n",
      "l [[5 2]\n",
      " [7 4]]\n"
     ]
    }
   ],
   "source": [
    "#10.2.1\n",
    "A = np.array([[2, 1, -1], [1, -1, 1]])\n",
    "B = np.array([[4, -2, 1], [2, -4, -2]])\n",
    "C = np.array([[1, 2], [2, 1]])\n",
    "D = np.array([[3, 4], [4, 3]])\n",
    "E = np.array([[1], [2]])\n",
    "I = np.array([[1, 0], [0, 1]])\n",
    "\n",
    "#a)\n",
    "print(2 * A)\n",
    "#b)\n",
    "print('a)', add_mult_matrices(B, (-2*A), 'add'))\n",
    "#c)\n",
    "print('\\nb', add_mult_matrices(3*C, -2*E, 'add'))\n",
    "#d)\n",
    "print('\\nc', add_mult_matrices(2*D, -3*C, 'add'))\n",
    "#e)\n",
    "print('\\nd', add_mult_matrices(D.T, 2*D, 'add'))\n",
    "#f)\n",
    "print('\\ne', add_mult_matrices(2*C.T, -2*D.T, 'add'))\n",
    "#g)\n",
    "print('\\nf', add_mult_matrices(A.T, -B, 'add'))\n",
    "#h)\n",
    "print('\\ng', add_mult_matrices(A, C, 'multiply'))\n",
    "#g)\n",
    "print('\\nh', add_mult_matrices(A, D, 'multiply'))\n",
    "#i) \n",
    "print('\\ni', add_mult_matrices(C, D, 'multiply'))\n",
    "#j)\n",
    "print('\\nj', add_mult_matrices(C, B, 'multiply'))\n",
    "#k\n",
    "print('\\nk', add_mult_matrices(C, I, 'multiply'))\n",
    "#l\n",
    "print('\\nl', add_mult_matrices(A, B.T, 'multiply'))"
   ]
  },
  {
   "cell_type": "code",
   "execution_count": 150,
   "id": "364b48fa",
   "metadata": {},
   "outputs": [
    {
     "name": "stdout",
     "output_type": "stream",
     "text": [
      "[[29 26]\n",
      " [26 42]]\n"
     ]
    }
   ],
   "source": [
    "#10.2.2\n",
    "A = np.array([[2, 3, 4],[5, 4, 1]])\n",
    "\n",
    "result = add_mult_matrices(A, A.T, 'multiply')\n",
    "print(result)"
   ]
  },
  {
   "cell_type": "code",
   "execution_count": 151,
   "id": "cd7d5727",
   "metadata": {},
   "outputs": [
    {
     "name": "stdout",
     "output_type": "stream",
     "text": [
      "[[ 4  7]\n",
      " [ 8 14]]\n",
      "[[ 4  7]\n",
      " [ 8 14]]\n"
     ]
    }
   ],
   "source": [
    "#10.2.3\n",
    "A = np.array([[1, 2],[2, 4]])\n",
    "B = np.array([[2, 1],[1, 3]])\n",
    "C = np.array([[4, 3],[0, 2]])\n",
    "\n",
    "A_B = add_mult_matrices(A, B, 'multiply')\n",
    "print(A_B)\n",
    "\n",
    "A_C = add_mult_matrices(A, C, 'multiply')\n",
    "print(A_C)"
   ]
  },
  {
   "cell_type": "markdown",
   "id": "6a4a524f",
   "metadata": {},
   "source": [
    "### Copies and Views\n",
    "Read the following link: https://numpy.org/doc/stable/user/basics.copies.html"
   ]
  },
  {
   "cell_type": "markdown",
   "id": "6cbbeaf7",
   "metadata": {},
   "source": [
    "**Basic indexing creates a view, How can you check if v1 and v2 is a view or copy? If you change the last element in v2 to 123, will the last element in v1 be changed? Why?**"
   ]
  },
  {
   "cell_type": "code",
   "execution_count": 162,
   "id": "5b9ef4df",
   "metadata": {},
   "outputs": [
    {
     "name": "stdout",
     "output_type": "stream",
     "text": [
      "[0 1 2 3]\n",
      "[2 3]\n",
      "[0 5 2 1]\n",
      "[2 1]\n"
     ]
    }
   ],
   "source": [
    "v1 = np.arange(4)\n",
    "v2 = v1[-2:]\n",
    "print(v1)\n",
    "print(v2)\n",
    "\n",
    "v1[1] = 5\n",
    "v2[1] = 1\n",
    "# I detta fall är v2 en view. Både v1 och v2 tittar på samma minne, och ändrar vi i någon av dom så ändras minnesbiten, inte en kopia. \n",
    "# Vi kan se att det är simple indexing, dvs att det antingen använts ett index eller ett intervall med :, vilket leder till view. \n",
    "print(v1)\n",
    "print(v2)\n"
   ]
  },
  {
   "cell_type": "code",
   "execution_count": 159,
   "id": "d2440489",
   "metadata": {},
   "outputs": [
    {
     "name": "stdout",
     "output_type": "stream",
     "text": [
      "None\n",
      "[0 1 2 3]\n"
     ]
    }
   ],
   "source": [
    "# The base attribute of a view returns the original array while it returns None for a copy.\n",
    "print(v1.base)\n",
    "print(v2.base)"
   ]
  },
  {
   "cell_type": "code",
   "execution_count": null,
   "id": "c8752807",
   "metadata": {},
   "outputs": [],
   "source": [
    "# The last element in v1 will be changed aswell since v2 is a view, meaning they share the same data buffer.\n",
    "v2[-1] = 123\n",
    "print(v1)\n",
    "print(v2)"
   ]
  },
  {
   "cell_type": "code",
   "execution_count": null,
   "id": "3dd68221",
   "metadata": {},
   "outputs": [],
   "source": []
  }
 ],
 "metadata": {
  "kernelspec": {
   "display_name": "Python 3",
   "language": "python",
   "name": "python3"
  },
  "language_info": {
   "codemirror_mode": {
    "name": "ipython",
    "version": 3
   },
   "file_extension": ".py",
   "mimetype": "text/x-python",
   "name": "python",
   "nbconvert_exporter": "python",
   "pygments_lexer": "ipython3",
   "version": "3.13.0"
  }
 },
 "nbformat": 4,
 "nbformat_minor": 5
}
